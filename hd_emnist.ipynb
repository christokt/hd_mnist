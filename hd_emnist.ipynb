{
 "cells": [
  {
   "cell_type": "markdown",
   "metadata": {},
   "source": [
    "# Import necessary packages"
   ]
  },
  {
   "cell_type": "code",
   "execution_count": 2,
   "metadata": {},
   "outputs": [
    {
     "data": {
      "text/plain": [
       "<torch._C.Generator at 0x7f3eb1bbf950>"
      ]
     },
     "execution_count": 2,
     "metadata": {},
     "output_type": "execute_result"
    }
   ],
   "source": [
    "import torch\n",
    "import torch.nn as nn\n",
    "import numpy as np\n",
    "import matplotlib.pyplot as plt\n",
    "\n",
    "from torch.utils.data import DataLoader\n",
    "import torch\n",
    "import torchvision\n",
    "import torchvision.transforms as transforms\n",
    "import torch.nn.functional as F\n",
    "\n",
    "# Set torch seed\n",
    "torch.manual_seed(2023)"
   ]
  },
  {
   "cell_type": "code",
   "execution_count": 3,
   "metadata": {},
   "outputs": [],
   "source": [
    "# Initialize Hyperparameters\n",
    "HD_DIMENSION = 40000\n",
    "NUM_CLASSES = 47\n",
    "THRESHOLD = 0.0\n",
    "BATCH_SIZE = 512\n",
    "IMG_LEN = 28 * 28"
   ]
  },
  {
   "cell_type": "code",
   "execution_count": 4,
   "metadata": {},
   "outputs": [
    {
     "name": "stdout",
     "output_type": "stream",
     "text": [
      "Using device: cuda\n"
     ]
    }
   ],
   "source": [
    "# Load data\n",
    "device = torch.device('cuda' if torch.cuda.is_available() else 'cpu')\n",
    "hd_device = torch.device('cpu')\n",
    "# device = torch.device('mps')\n",
    "\n",
    "print('Using device:', device)\n",
    "\n",
    "# Load MNIST Data\n",
    "\n",
    "# Flip image horizontally, rotate 90 degrees, and convert to tensor\n",
    "transform = transforms.Compose([lambda img: torchvision.transforms.functional.rotate(img, -90),\n",
    "                                lambda img: torchvision.transforms.functional.hflip(img),\n",
    "                                torchvision.transforms.ToTensor()])\n",
    "\n",
    "\n",
    "train_data = torchvision.datasets.EMNIST(root='data', train=True, transform=transform, download=True, split='balanced')\n",
    "train_loader = torch.utils.data.DataLoader(train_data, batch_size=BATCH_SIZE, shuffle=True, pin_memory=True)\n",
    "\n",
    "test_data = torchvision.datasets.EMNIST(root='data', train=False, transform=transform, download=True, split='balanced')\n",
    "test_loader = torch.utils.data.DataLoader(test_data, batch_size=BATCH_SIZE, shuffle=False, pin_memory=True)"
   ]
  },
  {
   "cell_type": "code",
   "execution_count": 5,
   "metadata": {},
   "outputs": [],
   "source": [
    "# Function to generate HD vectors\n",
    "def generate_hd_vectors(images, proj):\n",
    "\n",
    "    # Adjust proj to sit between -1 and 1\n",
    "    # proj = proj * 2 - 1\n",
    "    proj *= 2\n",
    "    proj -= 1\n",
    "\n",
    "    # Send images to device\n",
    "    images = images.to(hd_device)\n",
    "\n",
    "    # Generate hypervectors and create binary vector\n",
    "    hd_vectors = torch.sign(images @ proj.T)\n",
    "    \n",
    "    return hd_vectors.to(hd_device)\n",
    "\n",
    "# Classify hd vectors using cosine similarity\n",
    "def classify_hd_vectors(hd_vectors, hd_memory):\n",
    "    distances = torch.cdist(hd_vectors, hd_memory, p=2)\n",
    "    \n",
    "    # Find the index of the minimum distance\n",
    "    min_distances, min_indices = torch.min(distances, dim=1)\n",
    "    return min_indices.to(hd_device)\n",
    "\n",
    "def create_hd_memory(hd_vectors, labels, HD_DIMENSION):\n",
    "    # Initialize HD Memory for classes\n",
    "    hd_memory = torch.zeros((NUM_CLASSES, HD_DIMENSION), device=hd_device)\n",
    "\n",
    "    # Create HD Memory\n",
    "    for i, vec in enumerate(hd_vectors):\n",
    "        hd_memory[train_data.targets[i]] += vec\n",
    "\n",
    "    return torch.sign(hd_memory)\n"
   ]
  },
  {
   "cell_type": "code",
   "execution_count": 6,
   "metadata": {},
   "outputs": [],
   "source": [
    "# Create projection matrix\n",
    "proj = torch.rand((HD_DIMENSION, IMG_LEN), device=hd_device, dtype=torch.float32)\n",
    "\n",
    "# Create hyper vectors\n",
    "hd_vectors = generate_hd_vectors(train_data.data.view(train_data.data.shape[0], -1) / 255, proj)\n",
    "\n",
    "hd_memory = create_hd_memory(hd_vectors, train_data.targets, HD_DIMENSION)\n"
   ]
  },
  {
   "cell_type": "code",
   "execution_count": 7,
   "metadata": {},
   "outputs": [],
   "source": [
    "# Convert to binary for faster computation\n",
    "def to_binary(hd_vectors, hd_memory):\n",
    "    hd_vectors = (hd_vectors == 1).to(torch.float32)\n",
    "    hd_memory = (hd_memory == 1).to(torch.float32)\n",
    "    return hd_vectors, hd_memory\n",
    "\n",
    "hd_vectors, hd_memory = to_binary(hd_vectors, hd_memory)"
   ]
  },
  {
   "cell_type": "code",
   "execution_count": 8,
   "metadata": {},
   "outputs": [
    {
     "name": "stdout",
     "output_type": "stream",
     "text": [
      "Accuracy on training data: 52.53546142578125%\n"
     ]
    }
   ],
   "source": [
    "# Testing training data\n",
    "classifications = classify_hd_vectors(hd_vectors, hd_memory)\n",
    "\n",
    "correct = torch.sum(classifications == train_data.targets.to(hd_device))\n",
    "total = len(train_data.targets)\n",
    "print(f\"Accuracy on training data: {correct / total * 100}%\")"
   ]
  },
  {
   "cell_type": "code",
   "execution_count": 9,
   "metadata": {},
   "outputs": [
    {
     "name": "stdout",
     "output_type": "stream",
     "text": [
      "Accuracy on test data: 2.127659574468085%\n"
     ]
    }
   ],
   "source": [
    "# Testing on test data\n",
    "hd_vectors_test = generate_hd_vectors(test_data.data.view(test_data.data.shape[0], -1) / 255, proj)\n",
    "hd_vectors_test = (hd_vectors_test == 1).to(torch.float32)\n",
    "\n",
    "correct = 0\n",
    "total = 0\n",
    "\n",
    "classifications = classify_hd_vectors(hd_vectors_test, hd_memory)\n",
    "\n",
    "for i, classification in enumerate(classifications):\n",
    "    if classification == test_data.targets[i]:\n",
    "        correct += 1\n",
    "    total += 1\n",
    "\n",
    "print(f\"Accuracy on test data: {correct / total * 100}%\")\n"
   ]
  },
  {
   "cell_type": "code",
   "execution_count": 10,
   "metadata": {},
   "outputs": [
    {
     "data": {
      "image/png": "[encoded data removed]",
      "text/plain": [
       "<Figure size 640x480 with 1 Axes>"
      ]
     },
     "metadata": {},
     "output_type": "display_data"
    }
   ],
   "source": [
    "# Compare accuracy when applying random noise to images\n",
    "noise_level = 0.1\n",
    "\n",
    "noise_matrix = torch.randn((test_data.data.shape[0], IMG_LEN), device=hd_device) * noise_level\n",
    "\n",
    "# Plot noise matrix\n",
    "noisy_test_data = (test_data.data.view(test_data.data.shape[0], -1) / 255).to(hd_device) + noise_matrix\n",
    "\n",
    "plt.imshow(noisy_test_data[0].view(28, 28).cpu(), cmap='gray')\n",
    "\n",
    "hd_vectors_noise = generate_hd_vectors(noisy_test_data, proj)\n",
    "hd_vectors_noise = (hd_vectors_noise == 1).to(torch.float32)\n",
    "    "
   ]
  },
  {
   "cell_type": "code",
   "execution_count": 11,
   "metadata": {},
   "outputs": [
    {
     "name": "stdout",
     "output_type": "stream",
     "text": [
      "Accuracy on test data with noise: 2.5319149494171143%\n"
     ]
    }
   ],
   "source": [
    "# Test noisy test data\n",
    "classifications = classify_hd_vectors(hd_vectors_noise, hd_memory)\n",
    "\n",
    "correct = torch.sum(classifications == test_data.targets.to(hd_device))\n",
    "total = len(test_data.targets)\n",
    "print(f\"Accuracy on test data with noise: {correct / total * 100}%\")"
   ]
  },
  {
   "cell_type": "markdown",
   "metadata": {},
   "source": [
    "# Defining and training an MLP for MNIST classification"
   ]
  },
  {
   "cell_type": "code",
   "execution_count": 12,
   "metadata": {},
   "outputs": [
    {
     "name": "stdout",
     "output_type": "stream",
     "text": [
      "Epoch [1/30], Loss: 0.8368\n",
      "Accuracy: 70.16%\n",
      "Epoch [2/30], Loss: 0.8189\n",
      "Accuracy: 77.40%\n",
      "Epoch [3/30], Loss: 0.6036\n",
      "Accuracy: 80.04%\n",
      "Epoch [4/30], Loss: 0.5244\n",
      "Accuracy: 82.02%\n",
      "Epoch [5/30], Loss: 0.5655\n",
      "Accuracy: 83.41%\n",
      "Epoch [6/30], Loss: 0.4966\n",
      "Accuracy: 84.07%\n",
      "Epoch [7/30], Loss: 0.5101\n",
      "Accuracy: 85.09%\n",
      "Epoch [8/30], Loss: 0.5331\n",
      "Accuracy: 85.78%\n",
      "Epoch [9/30], Loss: 0.3464\n",
      "Accuracy: 85.87%\n",
      "Epoch [10/30], Loss: 0.4261\n",
      "Accuracy: 86.45%\n",
      "Epoch [11/30], Loss: 0.5167\n",
      "Accuracy: 86.97%\n",
      "Epoch [12/30], Loss: 0.4008\n",
      "Accuracy: 87.09%\n",
      "Epoch [13/30], Loss: 0.3258\n",
      "Accuracy: 87.57%\n",
      "Epoch [14/30], Loss: 0.4088\n",
      "Accuracy: 87.75%\n",
      "Epoch [15/30], Loss: 0.3383\n",
      "Accuracy: 88.41%\n",
      "Epoch [16/30], Loss: 0.2451\n",
      "Accuracy: 88.87%\n",
      "Epoch [17/30], Loss: 0.3822\n",
      "Accuracy: 88.60%\n",
      "Epoch [18/30], Loss: 0.2976\n",
      "Accuracy: 88.98%\n",
      "Epoch [19/30], Loss: 0.2532\n",
      "Accuracy: 89.17%\n",
      "Epoch [20/30], Loss: 0.2738\n",
      "Accuracy: 89.47%\n",
      "Epoch [21/30], Loss: 0.1917\n",
      "Accuracy: 89.66%\n",
      "Epoch [22/30], Loss: 0.3219\n",
      "Accuracy: 89.80%\n",
      "Epoch [23/30], Loss: 0.2824\n",
      "Accuracy: 89.82%\n",
      "Epoch [24/30], Loss: 0.2399\n",
      "Accuracy: 90.14%\n",
      "Epoch [25/30], Loss: 0.2470\n",
      "Accuracy: 90.27%\n",
      "Epoch [26/30], Loss: 0.2522\n",
      "Accuracy: 90.40%\n",
      "Epoch [27/30], Loss: 0.2806\n",
      "Accuracy: 90.70%\n",
      "Epoch [28/30], Loss: 0.1893\n",
      "Accuracy: 90.73%\n",
      "Epoch [29/30], Loss: 0.2608\n",
      "Accuracy: 90.88%\n",
      "Epoch [30/30], Loss: 0.2475\n",
      "Accuracy: 91.10%\n"
     ]
    }
   ],
   "source": [
    "# Create simple neural network\n",
    "class NeuralNetwork(nn.Module):\n",
    "    def __init__(self):\n",
    "        super(NeuralNetwork, self).__init__()\n",
    "        self.fc1 = nn.Linear(IMG_LEN, 512)\n",
    "        self.fc2 = nn.Linear(512, 256)\n",
    "        self.dropout = nn.Dropout(0.5)\n",
    "        self.fc3 = nn.Linear(256, NUM_CLASSES)\n",
    "    \n",
    "    def forward(self, x):\n",
    "        x = x.view(-1, IMG_LEN)\n",
    "        x = F.relu(self.fc1(x))\n",
    "        x = F.relu(self.fc2(x))\n",
    "        x = self.dropout(x)\n",
    "        x = self.fc3(x)\n",
    "        \n",
    "        return x\n",
    "    \n",
    "# Create neural network\n",
    "model = NeuralNetwork().to(device)\n",
    "\n",
    "# Define loss function and optimizer\n",
    "criterion = nn.CrossEntropyLoss()\n",
    "optimizer = torch.optim.Adam(model.parameters(), lr=0.001)\n",
    "\n",
    "# Train neural network\n",
    "num_epochs = 30\n",
    "for epoch in range(num_epochs):\n",
    "    for i, (images, labels) in enumerate(train_loader):\n",
    "        # Reshape images to (BATCH_SIZE, 28*28)\n",
    "        images = images.view(-1, 28 * 28).to(device)\n",
    "        labels = labels.to(device)\n",
    "\n",
    "        # Forward pass\n",
    "        outputs = model(images)\n",
    "        loss = criterion(outputs, labels)\n",
    "\n",
    "        # Backward and optimize\n",
    "        optimizer.zero_grad()\n",
    "        loss.backward()\n",
    "        optimizer.step()\n",
    "\n",
    "    # Print the loss and accuracy after each epoch\n",
    "    print(f\"Epoch [{epoch + 1}/{num_epochs}], Loss: {loss.item():.4f}\")\n",
    "\n",
    "    # Accuracy\n",
    "    with torch.no_grad():\n",
    "        correct = 0\n",
    "        total = 0\n",
    "        for images, labels in train_loader:\n",
    "            images = images.view(-1, 28 * 28).to(device)\n",
    "            labels = labels.to(device)\n",
    "            outputs = model(images)\n",
    "            _, predicted = torch.max(outputs.data, 1)\n",
    "            total += labels.size(0)\n",
    "            correct += (predicted == labels).sum().item()\n",
    "\n",
    "        accuracy = 100 * correct / total\n",
    "        print(f'Accuracy: {accuracy:.2f}%')\n"
   ]
  },
  {
   "cell_type": "code",
   "execution_count": 13,
   "metadata": {},
   "outputs": [
    {
     "name": "stdout",
     "output_type": "stream",
     "text": [
      "Test Accuracy: 85.91%\n"
     ]
    }
   ],
   "source": [
    "# Testing loop to evaluate the model using test_loader\n",
    "model.eval()\n",
    "with torch.no_grad():\n",
    "    correct = 0\n",
    "    total = 0\n",
    "    for images, labels in test_loader:\n",
    "        images = images.view(-1, 28 * 28).to(device)\n",
    "        labels = labels.to(device)\n",
    "        outputs = model(images)\n",
    "        _, predicted = torch.max(outputs.data, 1)\n",
    "        total += labels.size(0)\n",
    "        correct += (predicted == labels).sum().item()\n",
    "    \n",
    "    test_accuracy = 100 * correct / total\n",
    "    print(f'Test Accuracy: {test_accuracy:.2f}%')"
   ]
  },
  {
   "cell_type": "markdown",
   "metadata": {},
   "source": [
    "# Define and train a Vision Transformer for MNIST classification"
   ]
  },
  {
   "cell_type": "code",
   "execution_count": 14,
   "metadata": {},
   "outputs": [
    {
     "name": "stdout",
     "output_type": "stream",
     "text": [
      "Epoch [1/30], Loss: 0.6683\n",
      "Accuracy: 80.20%\n",
      "Epoch [2/30], Loss: 0.5002\n",
      "Accuracy: 83.97%\n",
      "Epoch [3/30], Loss: 0.4413\n",
      "Accuracy: 85.72%\n",
      "Epoch [4/30], Loss: 0.3454\n",
      "Accuracy: 85.77%\n",
      "Epoch [5/30], Loss: 0.4496\n",
      "Accuracy: 86.62%\n",
      "Epoch [6/30], Loss: 0.4538\n",
      "Accuracy: 87.77%\n",
      "Epoch [7/30], Loss: 0.4138\n",
      "Accuracy: 88.13%\n",
      "Epoch [8/30], Loss: 0.4826\n",
      "Accuracy: 88.37%\n",
      "Epoch [9/30], Loss: 0.2566\n",
      "Accuracy: 88.55%\n",
      "Epoch [10/30], Loss: 0.4740\n",
      "Accuracy: 88.37%\n",
      "Epoch [11/30], Loss: 0.3311\n",
      "Accuracy: 88.70%\n",
      "Epoch [12/30], Loss: 0.2245\n",
      "Accuracy: 89.50%\n",
      "Epoch [13/30], Loss: 0.3561\n",
      "Accuracy: 89.59%\n",
      "Epoch [14/30], Loss: 0.2713\n",
      "Accuracy: 89.97%\n",
      "Epoch [15/30], Loss: 0.2406\n",
      "Accuracy: 89.82%\n",
      "Epoch [16/30], Loss: 0.2818\n",
      "Accuracy: 90.16%\n",
      "Epoch [17/30], Loss: 0.1818\n",
      "Accuracy: 90.36%\n",
      "Epoch [18/30], Loss: 0.2785\n",
      "Accuracy: 90.95%\n",
      "Epoch [19/30], Loss: 0.2439\n",
      "Accuracy: 90.84%\n",
      "Epoch [20/30], Loss: 0.2767\n",
      "Accuracy: 91.03%\n",
      "Epoch [21/30], Loss: 0.3064\n",
      "Accuracy: 91.44%\n",
      "Epoch [22/30], Loss: 0.2159\n",
      "Accuracy: 91.41%\n",
      "Epoch [23/30], Loss: 0.2022\n",
      "Accuracy: 91.67%\n",
      "Epoch [24/30], Loss: 0.1163\n",
      "Accuracy: 91.71%\n",
      "Epoch [25/30], Loss: 0.1294\n",
      "Accuracy: 91.44%\n",
      "Epoch [26/30], Loss: 0.2756\n",
      "Accuracy: 92.24%\n",
      "Epoch [27/30], Loss: 0.2126\n",
      "Accuracy: 91.76%\n",
      "Epoch [28/30], Loss: 0.1840\n",
      "Accuracy: 91.81%\n",
      "Epoch [29/30], Loss: 0.2143\n",
      "Accuracy: 92.29%\n",
      "Epoch [30/30], Loss: 0.2339\n",
      "Accuracy: 92.42%\n"
     ]
    }
   ],
   "source": [
    "from vit_pytorch import ViT\n",
    "\n",
    "v = ViT(\n",
    "    image_size = 28,\n",
    "    patch_size = 7,\n",
    "    num_classes = NUM_CLASSES,\n",
    "    dim = 256,\n",
    "    depth = 6,\n",
    "    heads = 16,\n",
    "    mlp_dim = 512,\n",
    "    dropout = 0.1,\n",
    "    emb_dropout = 0.1,\n",
    "    channels = 1\n",
    ").to(device)\n",
    "\n",
    "# Train the model\n",
    "import torch.optim as optim\n",
    "\n",
    "optimizer = optim.Adam(v.parameters(), lr=0.001)\n",
    "criterion = nn.CrossEntropyLoss()\n",
    "\n",
    "num_epochs = 30\n",
    "\n",
    "for epoch in range(num_epochs):\n",
    "    for i, (images, labels) in enumerate(train_loader):\n",
    "        images = images.to(device)\n",
    "        labels = labels.to(device)\n",
    "\n",
    "        optimizer.zero_grad()\n",
    "\n",
    "        outputs = v(images)\n",
    "        loss = criterion(outputs, labels)\n",
    "        loss.backward()\n",
    "        optimizer.step()\n",
    "\n",
    "    print(f\"Epoch [{epoch + 1}/{num_epochs}], Loss: {loss.item():.4f}\")\n",
    "\n",
    "    # Accuracy\n",
    "    with torch.no_grad():\n",
    "        correct = 0\n",
    "        total = 0\n",
    "        for images, labels in train_loader:\n",
    "            images = images.to(device)\n",
    "            labels = labels.to(device)\n",
    "            outputs = v(images)\n",
    "            _, predicted = torch.max(outputs.data, 1)\n",
    "            total += labels.size(0)\n",
    "            correct += (predicted == labels).sum().item()\n",
    "\n",
    "        accuracy = 100 * correct / total\n",
    "        print(f'Accuracy: {accuracy:.2f}%')"
   ]
  },
  {
   "cell_type": "markdown",
   "metadata": {},
   "source": [
    "# Test high dimensional vector MNIST classification with varying dimensions and noise levels"
   ]
  },
  {
   "cell_type": "code",
   "execution_count": 15,
   "metadata": {},
   "outputs": [
    {
     "name": "stdout",
     "output_type": "stream",
     "text": [
      "Label-wise accuracies: {0: 0.0016666666666666668, 1: 0.42166666666666663, 2: 0.0, 3: 0.008333333333333333, 4: 0.006666666666666667, 5: 0.0033333333333333335, 6: 0.005, 7: 33.348333333333336, 8: 0.0016666666666666668, 9: 0.051666666666666666, 10: 0.0, 11: 0.0, 12: 0.013333333333333334, 13: 33.32333333333333, 14: 0.0, 15: 0.0, 16: 0.005, 17: 0.0016666666666666668, 18: 0.4033333333333333, 19: 0.051666666666666666, 20: 0.0, 21: 0.06, 22: 0.075, 23: 0.008333333333333333, 24: 0.0016666666666666668, 25: 0.051666666666666666, 26: 0.005, 27: 0.0, 28: 0.0, 29: 0.19, 30: 0.0016666666666666668, 31: 0.006666666666666667, 32: 0.06333333333333332, 33: 0.011666666666666667, 34: 0.051666666666666666, 35: 0.0, 36: 0.0016666666666666668, 37: 0.021666666666666667, 38: 0.015, 39: 0.0, 40: 0.051666666666666666, 41: 0.0, 42: 33.324999999999996, 43: 0.005, 44: 0.005, 45: 0.02666666666666667, 46: 0.018333333333333333}\n"
     ]
    }
   ],
   "source": [
    "# Test noisy test data with varying noise levels\n",
    "noise_levels = np.arange(0, 1, 0.02)\n",
    "\n",
    "# Make varying levels of noise from 10000 upto HD_DIMENSION\n",
    "hd_dims = np.arange(10000, HD_DIMENSION, 10000)\n",
    "\n",
    "total = len(test_data.targets)\n",
    "hd_history = {}\n",
    "\n",
    "# Initialize label-wise counters\n",
    "label_counter = {i: 0 for i in range(NUM_CLASSES)}\n",
    "label_total = {i: 0 for i in range(NUM_CLASSES)}\n",
    "\n",
    "for hd_dim in hd_dims:\n",
    "    # Create projection matrix\n",
    "    proj = torch.rand((hd_dim, IMG_LEN), device=hd_device, dtype=torch.float32)\n",
    "\n",
    "    # Create hyper vectors\n",
    "    hd_vectors = generate_hd_vectors(train_data.data.view(train_data.data.shape[0], -1) / 255, proj)\n",
    "\n",
    "    # Create HD Memory\n",
    "    hd_memory = create_hd_memory(hd_vectors, train_data.targets, hd_dim)\n",
    "\n",
    "    # Convert to binary for faster computation\n",
    "    hd_vectors, hd_memory = to_binary(hd_vectors, hd_memory)\n",
    "\n",
    "    accuracies_hd = []\n",
    "    for noise_level in noise_levels:\n",
    "        noise_matrix = torch.randn((test_data.data.shape[0], IMG_LEN), device=hd_device) * noise_level\n",
    "\n",
    "        # Plot noise matrix\n",
    "        noisy_test_data = (test_data.data.view(test_data.data.shape[0], -1) / 255).to(hd_device) + noise_matrix\n",
    "\n",
    "        hd_vectors_noise = generate_hd_vectors(noisy_test_data, proj)\n",
    "        hd_vectors_noise = (hd_vectors_noise == 1).to(torch.float32)\n",
    "\n",
    "        classifications = classify_hd_vectors(hd_vectors_noise, hd_memory)\n",
    "\n",
    "        correct = torch.sum(classifications.cpu() == test_data.targets)\n",
    "\n",
    "        # Update label-wise counters\n",
    "        for true, pred in zip(test_data.targets, classifications.cpu()):\n",
    "            label_total[true.item()] += 1\n",
    "            if true == pred:\n",
    "                label_counter[true.item()] += 1\n",
    "                \n",
    "        accuracies_hd.append(correct / total * 100)\n",
    "\n",
    "    hd_history[hd_dim] = accuracies_hd\n",
    "\n",
    "# Calculate and print label-wise accuracies\n",
    "label_accuracies = {label: (label_counter[label] / label_total[label]) * 100 for label in label_counter}\n",
    "print(\"Label-wise accuracies:\", label_accuracies)\n"
   ]
  },
  {
   "cell_type": "markdown",
   "metadata": {},
   "source": [
    "# Test MLP with varying noise levels"
   ]
  },
  {
   "cell_type": "code",
   "execution_count": 16,
   "metadata": {},
   "outputs": [],
   "source": [
    "# Test neural network with progressively more noise\n",
    "accuracies_net = []\n",
    "\n",
    "for noise_level in noise_levels:\n",
    "\n",
    "    # Test noisy test data\n",
    "    correct = 0\n",
    "    total = 0\n",
    "\n",
    "    with torch.no_grad():\n",
    "        for i, (images, labels) in enumerate(test_loader):\n",
    "            images = images.view(-1, 28 * 28).to(device)\n",
    "            labels = labels.to(device)\n",
    "\n",
    "            # Add noise to images\n",
    "            noise_matrix = torch.randn((images.shape[0], IMG_LEN), device=device) * noise_level\n",
    "            images = images + noise_matrix\n",
    "\n",
    "            outputs = model(images)\n",
    "            _, predicted = torch.max(outputs.data, 1)\n",
    "            total += labels.size(0)\n",
    "            correct += (predicted == labels).sum().item()\n",
    "\n",
    "    accuracies_net.append(correct / total * 100)\n"
   ]
  },
  {
   "cell_type": "markdown",
   "metadata": {},
   "source": [
    "# Test ViT with varying levels of noise"
   ]
  },
  {
   "cell_type": "code",
   "execution_count": null,
   "metadata": {},
   "outputs": [],
   "source": [
    "acc_vit = []\n",
    "\n",
    "for noise_level in noise_levels:\n",
    "    \n",
    "        # Test noisy test data\n",
    "        correct = 0\n",
    "        total = 0\n",
    "    \n",
    "        with torch.no_grad():\n",
    "            for i, (images, labels) in enumerate(test_loader):\n",
    "                images = images.to(device)\n",
    "                labels = labels.to(device)\n",
    "    \n",
    "                # Add noise to images\n",
    "                noise_matrix = torch.randn((images.shape[0], 1, 28, 28), device=device) * noise_level\n",
    "                images = images + noise_matrix\n",
    "    \n",
    "                outputs = v(images)\n",
    "                _, predicted = torch.max(outputs.data, 1)\n",
    "                total += labels.size(0)\n",
    "                correct += (predicted == labels).sum().item()\n",
    "    \n",
    "        acc_vit.append(correct / total * 100)"
   ]
  },
  {
   "cell_type": "markdown",
   "metadata": {},
   "source": [
    "# Display MNIST images with noise to get an idea of how noisy the images are to the human eye"
   ]
  },
  {
   "cell_type": "code",
   "execution_count": null,
   "metadata": {},
   "outputs": [
    {
     "data": {
      "image/png": "[encoded data removed]",
      "text/plain": [
       "<Figure size 1500x1500 with 10 Axes>"
      ]
     },
     "metadata": {},
     "output_type": "display_data"
    }
   ],
   "source": [
    "# Plot a random image from the test set with the various noise levels\n",
    "plt.figure(figsize=(15, 15))\n",
    "\n",
    "index = torch.randint(0, len(test_data.targets), size=(1,)).item()\n",
    "for i, noise_level in enumerate(np.arange(0, 1, 0.1)):\n",
    "    noise_matrix = torch.randn((test_data.data.shape[0], IMG_LEN)) * noise_level\n",
    "\n",
    "    # Create noisy image\n",
    "    noisy_test_data = (test_data.data.view(test_data.data.shape[0], -1) / 255) + noise_matrix\n",
    "\n",
    "    # Create subplot and display the image\n",
    "    plt.subplot(3, 4, i + 1)  # Assuming you have 10 images (0, 0.1, ..., 0.9), adjust the dimensions as necessary\n",
    "    plt.imshow(noisy_test_data[index].view(28, 28), cmap='gray')\n",
    "    plt.title(f'Noise Level: {noise_level:.1f}')\n",
    "    plt.axis('off')  # Turn off axis numbers and ticks\n",
    "\n",
    "plt.show()"
   ]
  },
  {
   "cell_type": "code",
   "execution_count": null,
   "metadata": {},
   "outputs": [],
   "source": [
    "for hd_dim in hd_history:\n",
    "    plt.plot(noise_levels, hd_history[hd_dim])\n",
    "plt.plot(noise_levels, accuracies_net)\n",
    "plt.plot(noise_levels, acc_vit)\n",
    "legend = []\n",
    "plt.legend([\"HD Dimension: 10000\", \"HD Dimension: 20000\", \"HD Dimension: 30000\", \"HD Dimension: 40000\", \"HD Dimension: 50000\", \"HD Dimension: 60000\", \"HD Dimension: 70000\", \"Neural Network\"])\n",
    "plt.xlabel(\"Noise Level\")\n",
    "plt.ylabel(\"Accuracy\")\n",
    "plt.title(\"Accuracy vs Noise Level for Neural Network\")\n",
    "plt.grid()"
   ]
  }
 ],
 "metadata": {
  "kernelspec": {
   "display_name": "base",
   "language": "python",
   "name": "python3"
  },
  "language_info": {
   "codemirror_mode": {
    "name": "ipython",
    "version": 3
   },
   "file_extension": ".py",
   "mimetype": "text/x-python",
   "name": "python",
   "nbconvert_exporter": "python",
   "pygments_lexer": "ipython3",
   "version": "3.10.13"
  },
  "orig_nbformat": 4
 },
 "nbformat": 4,
 "nbformat_minor": 2
}
